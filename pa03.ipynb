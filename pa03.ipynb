{
 "cells": [
  {
   "cell_type": "markdown",
   "metadata": {},
   "source": [
    "**Please write your name here:**  Hanna Salings\n",
    "\n",
    "**Please write your MST email here:**  hks539@mst.edu"
   ]
  },
  {
   "cell_type": "markdown",
   "metadata": {},
   "source": [
    "# Programming assignment 3 (pa03) -- The human Interactome\n",
    "\n",
    "https://thebiogrid.org/\n",
    "\n",
    "0. Download the data from the website:\n",
    "http://web.mst.edu/~taylorpat/Courses_files/Bioinformatics/Content/BIOGRID-ORGANISM-3.4.158.tab2.zip\n",
    "    * Unpack the archive and note the individual files for each species, and the one for humans, that you will work with.\n",
    "    * Put the human data file in a location accessible to the repo, but do not add it to the repositiory. It is large.\n",
    "\n",
    "1. Read the following links in entirety: \n",
    "    * https://en.wikipedia.org/wiki/BioGRID\n",
    "    * https://www.ncbi.nlm.nih.gov/pmc/articles/PMC153463/pdf/gb-2003-4-3-r23.pdf\n",
    "    * https://www.ncbi.nlm.nih.gov/pmc/articles/PMC5210573/pdf/gkw1102.pdf\n",
    "    * http://science.sciencemag.org/content/sci/353/6306/aaf1420.full.pdf\n",
    "    * https://wiki.thebiogrid.org/doku.php/experimental_systems\n",
    "    * https://wiki.thebiogrid.org/doku.php/downloads\n",
    "    * Write 2/3 of a page summarizeng what BioGrid does, how they curate and represent data, and one thing you found interesting about the Science paper above.\n",
    "\n",
    "2. Paint a picture of the human interactome using basic plots, networkx statistics, and layout plots.\n",
    "    * Plot basic descriptive statistics\n",
    "    * Plot some basic graph statistics like degree distribution, clustering, a centrality measure, etc.\n",
    "    * Use the human dataset I gave as a rough guideline for syntax, etc.\n",
    "    * Tell an interesting story with the data and teach me something new!\n",
    "\n",
    "3. Characterize some interesting genes/proteins/molecules\n",
    "    * Which 5 nodes have the highest degree? What do they do? Write one paragraph about each, including any images you may find informative. You may consider consulting references such as these:\n",
    "        * https://www.ncbi.nlm.nih.gov/guide/genes-expression/\n",
    "        * https://www.ncbi.nlm.nih.gov/guide/proteins/\n",
    "    * Which 5 nodes have the highest betweenness centrality? What do they do? Write one paragraph about each, including any images you may find informative. \n",
    "    * Pick one graph statistic of your own choice, and perform the same activity as the previous two.\n",
    "\n",
    "You may want to do your actual programming in an IDE like Spyder, but please include the report and final code here in this notebook for submission."
   ]
  },
  {
   "cell_type": "markdown",
   "metadata": {},
   "source": [
    "## Complete your work below here:"
   ]
  },
  {
   "cell_type": "markdown",
   "metadata": {},
   "source": [
    "### Biogrid Summary\n",
    "\n",
    "Biogrid, the Biological General Repository for Interaction Datasets, is an open access biological database that contains interactions such as protein-protein interactions, genetics interactions, chemical interactions, and post-translational modifications that were initially created in 2003. BioGRID allows people to search for a protein or publication and access the annotation and curated data of it. The BioGRID has resources for all major model organism species and avoids redundancy in order for there to be just a single mapping of the data.\n",
    "    \n",
    "Data is curated and represented through a master look-up table. This table contains all of the primary and secondary Saccharomyces cerevisiae gene names and open reading frame (ORF) names. When a gene is entered into the BioGRID, it is put into a tabular format with additional information available, such as the description of its function, the Gene Ontology (GO) annotation, experimental system(s) where the interactions associated with the gene are based, the source of interaction data, and any publication links regarding the gene. Each row in the table is a unique interaction. When adding interactions into the BioGRID, only new interactions are accepted, and repeats are exluded. This is done in order to help curate any redundant information.\n",
    "    \n",
    "One thing I found interesting about the Science paper is how genetic interaction profiles help connect one gene to more genes by using negative and positive interactions. What was interesting was that the average gene participated in about 100 negative interactions and 65 positive interactions. However, when a gene was assessed at an intermediate confidence threshold, it was found that an even wider range of connectivity exists in the genetic interaction network. The 10% most connected genes ended up having an average degree of 340 negative interactions and the average positive interaction hub had 200 positive interactions, which is obviously much higher than the average gene numbers for negative and positive interactions."
   ]
  },
  {
   "cell_type": "markdown",
   "metadata": {},
   "source": [
    "### Plots and Statistics"
   ]
  },
  {
   "cell_type": "code",
   "execution_count": 27,
   "metadata": {},
   "outputs": [],
   "source": [
    "import pandas as pd\n",
    "import networkx as nx\n",
    "import numpy as np\n",
    "import matplotlib.pyplot as plt\n",
    "\n",
    "import operator"
   ]
  },
  {
   "cell_type": "code",
   "execution_count": 28,
   "metadata": {},
   "outputs": [
    {
     "name": "stderr",
     "output_type": "stream",
     "text": [
      "/home/user/miniconda3/envs/iab-0.1.3/lib/python3.5/site-packages/IPython/core/interactiveshell.py:2850: DtypeWarning: Columns (18) have mixed types. Specify dtype option on import or set low_memory=False.\n",
      "  if self.run_code(code, result):\n"
     ]
    }
   ],
   "source": [
    "bg = pd.DataFrame.from_csv('BIOGRID-ORGANISM-Homo_sapiens-3.4.158.tab2.csv', sep = '\\t')\n",
    "\n",
    "G = nx.from_pandas_edgelist(bg, 'Official Symbol Interactor A', 'Official Symbol Interactor B')"
   ]
  },
  {
   "cell_type": "code",
   "execution_count": 61,
   "metadata": {},
   "outputs": [],
   "source": [
    "plt.rcParams[\"figure.figsize\"] = (10, 10)"
   ]
  },
  {
   "cell_type": "code",
   "execution_count": 48,
   "metadata": {},
   "outputs": [
    {
     "name": "stdout",
     "output_type": "stream",
     "text": [
      "Density: 0.001312004905801899\n"
     ]
    }
   ],
   "source": [
    "# Basic Descriptive Info\n",
    "\n",
    "#Density\n",
    "print('Density:', nx.density(G))"
   ]
  },
  {
   "cell_type": "code",
   "execution_count": 81,
   "metadata": {},
   "outputs": [],
   "source": [
    "# Degrees\n",
    "G.degree()"
   ]
  },
  {
   "cell_type": "code",
   "execution_count": 51,
   "metadata": {},
   "outputs": [],
   "source": [
    "# Edges\n",
    "G.edges()"
   ]
  },
  {
   "cell_type": "code",
   "execution_count": 72,
   "metadata": {},
   "outputs": [
    {
     "name": "stdout",
     "output_type": "stream",
     "text": [
      "Average Clustering:  0.10243661826813609\n"
     ]
    }
   ],
   "source": [
    "# Average Clustering\n",
    "print('Average Clustering: ',nx.average_clustering(G))"
   ]
  },
  {
   "cell_type": "code",
   "execution_count": 73,
   "metadata": {},
   "outputs": [
    {
     "name": "stdout",
     "output_type": "stream",
     "text": [
      "Assortativity:  -0.0657600012252\n"
     ]
    }
   ],
   "source": [
    "# Assortativity\n",
    "print('Assortativity: ',nx.degree_assortativity_coefficient(G))"
   ]
  },
  {
   "cell_type": "code",
   "execution_count": 41,
   "metadata": {},
   "outputs": [],
   "source": [
    "# Degree Distribution\n",
    "degreeVals = list(dict(G.degree()).values())"
   ]
  },
  {
   "cell_type": "code",
   "execution_count": 75,
   "metadata": {},
   "outputs": [
    {
     "name": "stdout",
     "output_type": "stream",
     "text": [
      "(array([  2.11590000e+04,   1.97000000e+02,   2.70000000e+01,\n",
      "         7.00000000e+00,   4.00000000e+00,   3.00000000e+00,\n",
      "         1.00000000e+00,   1.00000000e+00,   2.00000000e+00,\n",
      "         1.00000000e+00]), array([  1.00000000e+00,   2.38000000e+02,   4.75000000e+02,\n",
      "         7.12000000e+02,   9.49000000e+02,   1.18600000e+03,\n",
      "         1.42300000e+03,   1.66000000e+03,   1.89700000e+03,\n",
      "         2.13400000e+03,   2.37100000e+03]), <a list of 10 Patch objects>)\n"
     ]
    },
    {
     "data": {
      "image/png": "[encoded data removed]",
      "text/plain": [
       "<matplotlib.figure.Figure at 0x7f26c47daef0>"
      ]
     },
     "metadata": {},
     "output_type": "display_data"
    }
   ],
   "source": [
    "# Degree Histogram\n",
    "print(plt.hist(degreeVals))"
   ]
  },
  {
   "cell_type": "code",
   "execution_count": 74,
   "metadata": {},
   "outputs": [
    {
     "name": "stdout",
     "output_type": "stream",
     "text": [
      "{'boxes': [<matplotlib.lines.Line2D object at 0x7f26c47b9a58>], 'medians': [<matplotlib.lines.Line2D object at 0x7f26c481c4e0>], 'means': [], 'whiskers': [<matplotlib.lines.Line2D object at 0x7f26c47b5f28>, <matplotlib.lines.Line2D object at 0x7f26c47ad780>], 'caps': [<matplotlib.lines.Line2D object at 0x7f26c47aa278>, <matplotlib.lines.Line2D object at 0x7f26c4820cf8>], 'fliers': [<matplotlib.lines.Line2D object at 0x7f26c4814f98>]}\n"
     ]
    },
    {
     "data": {
      "image/png": "[encoded data removed]",
      "text/plain": [
       "<matplotlib.figure.Figure at 0x7f26c36ca0f0>"
      ]
     },
     "metadata": {},
     "output_type": "display_data"
    }
   ],
   "source": [
    "# Degree Boxplot\n",
    "print(plt.boxplot(degreeVals))"
   ]
  },
  {
   "cell_type": "markdown",
   "metadata": {},
   "source": [
    "#### Interpertations:\n",
    "\n",
    "The histogram of the degree shows that the most of the genes have a degree value around 0-250, and much fewer with larger degrees. From sorting by the highest degree later on, it can be seen that the degrees go all the way up to 2371.\n",
    "\n",
    "The boxplot of the degree shows that the median of the degree values are below the 250 range, and the larger values are outliers. There is a large amount of outliers in the 250-750 range."
   ]
  },
  {
   "cell_type": "code",
   "execution_count": 55,
   "metadata": {},
   "outputs": [],
   "source": [
    "# Clustering\n",
    "clusterVals = list(dict(nx.clustering(G)).values())"
   ]
  },
  {
   "cell_type": "code",
   "execution_count": 64,
   "metadata": {},
   "outputs": [
    {
     "name": "stdout",
     "output_type": "stream",
     "text": [
      "(array([ 14831.,   3610.,   1078.,    801.,    223.,    148.,    178.,\n",
      "           27.,     34.,    472.]), array([ 0. ,  0.1,  0.2,  0.3,  0.4,  0.5,  0.6,  0.7,  0.8,  0.9,  1. ]), <a list of 10 Patch objects>)\n"
     ]
    },
    {
     "data": {
      "image/png": "[encoded data removed]",
      "text/plain": [
       "<matplotlib.figure.Figure at 0x7f26c0276898>"
      ]
     },
     "metadata": {},
     "output_type": "display_data"
    }
   ],
   "source": [
    "# Clustering Histogram\n",
    "print(plt.hist(clusterVals))"
   ]
  },
  {
   "cell_type": "code",
   "execution_count": 65,
   "metadata": {},
   "outputs": [
    {
     "name": "stdout",
     "output_type": "stream",
     "text": [
      "{'boxes': [<matplotlib.lines.Line2D object at 0x7f26c36720f0>], 'medians': [<matplotlib.lines.Line2D object at 0x7f26c36d5cc0>], 'means': [], 'whiskers': [<matplotlib.lines.Line2D object at 0x7f26c3672780>, <matplotlib.lines.Line2D object at 0x7f26c3667f60>], 'caps': [<matplotlib.lines.Line2D object at 0x7f26c36e3860>, <matplotlib.lines.Line2D object at 0x7f26c36dd0b8>], 'fliers': [<matplotlib.lines.Line2D object at 0x7f26c36d15c0>]}\n"
     ]
    },
    {
     "data": {
      "image/png": "[encoded data removed]",
      "text/plain": [
       "<matplotlib.figure.Figure at 0x7f26c02e6358>"
      ]
     },
     "metadata": {},
     "output_type": "display_data"
    }
   ],
   "source": [
    "# Clustering Boxplot\n",
    "print(plt.boxplot(clusterVals))"
   ]
  },
  {
   "cell_type": "markdown",
   "metadata": {},
   "source": [
    "#### Interpertations:\n",
    "\n",
    "The histogram for the clustering coefficient shows the degree of which the nodes cluster together. The majority of the nodes have a clustering coefficient of around 0.1, and the remaining nodes have a decreasing clustering coefficient until around 0.9, where it then begins to increase again.\n",
    "\n",
    "The boxplot of the clustering coefficient shows that the median is around the 0.0 - 0.1 range, and the majority of the outliers are from the 0.3 - 0.8 range."
   ]
  },
  {
   "cell_type": "code",
   "execution_count": 76,
   "metadata": {},
   "outputs": [],
   "source": [
    "# Eigenvector Centrality\n",
    "eigenvectorVals = list(nx.eigenvector_centrality(G).values())"
   ]
  },
  {
   "cell_type": "code",
   "execution_count": 77,
   "metadata": {},
   "outputs": [
    {
     "name": "stdout",
     "output_type": "stream",
     "text": [
      "(array([  2.06680000e+04,   4.92000000e+02,   1.40000000e+02,\n",
      "         6.40000000e+01,   1.50000000e+01,   1.40000000e+01,\n",
      "         6.00000000e+00,   0.00000000e+00,   2.00000000e+00,\n",
      "         1.00000000e+00]), array([  3.71321697e-25,   1.46845136e-02,   2.93690272e-02,\n",
      "         4.40535407e-02,   5.87380543e-02,   7.34225679e-02,\n",
      "         8.81070815e-02,   1.02791595e-01,   1.17476109e-01,\n",
      "         1.32160622e-01,   1.46845136e-01]), <a list of 10 Patch objects>)\n"
     ]
    },
    {
     "data": {
      "image/png": "[encoded data removed]",
      "text/plain": [
       "<matplotlib.figure.Figure at 0x7f26c4866f28>"
      ]
     },
     "metadata": {},
     "output_type": "display_data"
    }
   ],
   "source": [
    "# Eigenvector Histogram\n",
    "print(plt.hist(eigenvectorVals))"
   ]
  },
  {
   "cell_type": "code",
   "execution_count": 78,
   "metadata": {},
   "outputs": [
    {
     "name": "stdout",
     "output_type": "stream",
     "text": [
      "{'boxes': [<matplotlib.lines.Line2D object at 0x7f26c4aab358>], 'medians': [<matplotlib.lines.Line2D object at 0x7f26c4b105c0>], 'means': [], 'whiskers': [<matplotlib.lines.Line2D object at 0x7f26c4aa7c88>, <matplotlib.lines.Line2D object at 0x7f26c4b1f860>], 'caps': [<matplotlib.lines.Line2D object at 0x7f26c4b1b0b8>, <matplotlib.lines.Line2D object at 0x7f26c4b14b38>], 'fliers': [<matplotlib.lines.Line2D object at 0x7f26c4b06dd8>]}\n"
     ]
    },
    {
     "data": {
      "image/png": "[encoded data removed]",
      "text/plain": [
       "<matplotlib.figure.Figure at 0x7f26c498fe10>"
      ]
     },
     "metadata": {},
     "output_type": "display_data"
    }
   ],
   "source": [
    "# Eigenvector Centrality Boxplot\n",
    "print(plt.boxplot(eigenvectorVals))"
   ]
  },
  {
   "cell_type": "markdown",
   "metadata": {},
   "source": [
    "#### Interpertations:\n",
    "\n",
    "The histogram of the eigenvector centrality shows how many nodes have an influence in a network. The nodes that have a larger eigenvector centrality measure will be connected to more nodes that have high scores in the network. The plot shows that a majority of the degrees only have an eigenvector centrality score of around 0.01. The remaining nodes have values that range from 0.02 to 0.14, decreasing as the range goes further. This is most likely because the graph isn't very connected.\n",
    "\n",
    "The boxplot shows that there is a median around 0.01, and most of the outliers range from around 0.02 to 0.08."
   ]
  },
  {
   "cell_type": "code",
   "execution_count": 5,
   "metadata": {},
   "outputs": [
    {
     "data": {
      "image/png": "[encoded data removed]",
      "text/plain": [
       "<matplotlib.figure.Figure at 0x7f9e08adaa58>"
      ]
     },
     "metadata": {},
     "output_type": "display_data"
    }
   ],
   "source": [
    "# Graph\n",
    "nx.draw(G, node_size=1)"
   ]
  },
  {
   "cell_type": "markdown",
   "metadata": {},
   "source": [
    "### Highest Degree, Betweenness Centrality, and Closeness Centrality:"
   ]
  },
  {
   "cell_type": "code",
   "execution_count": 15,
   "metadata": {},
   "outputs": [
    {
     "name": "stdout",
     "output_type": "stream",
     "text": [
      "('TRIM25', 2371)\n",
      "('APP', 2107)\n",
      "('NTRK1', 1944)\n",
      "('ELAVL1', 1781)\n",
      "('UBC', 1607)\n"
     ]
    }
   ],
   "source": [
    "# Highest Degrees\n",
    "sortedByDegree = sorted(G.degree(), key=operator.itemgetter(1), reverse=True) # sort by the second column, reverse to get the highest degrees\n",
    "print(*sortedByDegree[0:5], sep = \"\\n\") # Print the 5 nodes with the highest degrees"
   ]
  },
  {
   "cell_type": "code",
   "execution_count": 79,
   "metadata": {},
   "outputs": [
    {
     "name": "stdout",
     "output_type": "stream",
     "text": [
      "('TRIM25', 0.08014247396684629)\n",
      "('APP', 0.07367960353313963)\n",
      "('UBC', 0.06409533792284744)\n",
      "('ELAVL1', 0.05311077710561116)\n",
      "('NTRK1', 0.03208298614181022)\n"
     ]
    }
   ],
   "source": [
    "# Betweeness Centrality:\n",
    "betweennessSorted = sorted(nx.betweenness_centrality(G).items(), key=operator.itemgetter(1), reverse=True) # Sort by highest betweenness centrality\n",
    "print(*betweennessSorted[0:5], sep= \"\\n\") # Print the 5 highest betweenness centralities"
   ]
  },
  {
   "cell_type": "code",
   "execution_count": 4,
   "metadata": {},
   "outputs": [
    {
     "name": "stdout",
     "output_type": "stream",
     "text": [
      "('TRIM25', 0.4661945888417104)\n",
      "('NTRK1', 0.4550885571389535)\n",
      "('APP', 0.45503998949289054)\n",
      "('UBC', 0.4508062537846824)\n",
      "('ELAVL1', 0.45070141955374854)\n"
     ]
    }
   ],
   "source": [
    "# Closeness Centrality\n",
    "centralitySorted = sorted(nx.closeness_centrality(G).items(), key=operator.itemgetter(1), reverse=True) # Sort the closeness centrality by highest\n",
    "print(*centralitySorted[0:5], sep= \"\\n\") # Print out the top 5 closeness centralities"
   ]
  },
  {
   "cell_type": "markdown",
   "metadata": {},
   "source": [
    "## Information About Nodes\n",
    "\n",
    "### Highest Degree\n",
    "\n",
    "The 5 nodes with the highest degrees are:\n",
    "        \n",
    "        Node       Degree\n",
    "        TRIM25     2371\n",
    "        APP        2107\n",
    "        NTRK1      1944\n",
    "        ELAVL1     1781\n",
    "        UBC        1607\n",
    "        \n",
    "Referenced ncbi.nlm.nih.gov/gene, uniprot.org, and ghr.nlm.nih.gov/gene for information on the genes\n",
    "\n",
    "TRIM25:\n",
    "\n",
    "The gene TRIM25 is the protein E3 ubiquitin/ISG15 TRIM25. Its official full name is tripartite motif containing 25, and its gene type is protein coding. It functions as a ubiquitin E3 ligase and an ISG15 E3 ligase. This gene helps the immune system defend against viruses. It does so by mediating ubiquintination of DDX58. This gene is crucial to being able to trigger the cytosolic signal transduction that leads to the production of interferons when a viral infection is found. TRIM25 triggers this by mediating the Lys-63 linked polyubiquintination of the DDX58 N-terminal CARD-like region. Along with this, TRIM25 also mediates estrogen action in several target organs. An example is mediating estrogen actions in breast cancer as a primary response gene.\n",
    "\n",
    "APP:\n",
    "\n",
    "The gene APP functions as a cell surface receptor and performs physiological functions on the surface of neurons that have to deal with neurite growth, neuronal adhesion, and axonogenesis. The official full name of APP is amyloid beta precursor protein. Its gene type is protein coding. Its job is to create the amyloid beta precursor protein. This protein is found in many tissues and organs, including important things such as the brain and spinal cord. When it encodes the cell surface receptor, the transmembrane precursor protein is cleaved by secretases to form peptides. Some peptides are secreted and bind to the aceltyltransferase complex, which helps to promote transcriptional activation. The other peptides form the protein basis of the amyloid plaques. These plaques are connected to Alzheimer disease, as they are found in the brains of patients with this disease. The location of the gene is 21q21.3 and its exon count is 20.\n",
    "\n",
    "NTRK1:\n",
    "\n",
    "The gene NTRK1 is of gene type protein coding and its official full name is neurotrophic tyrosine kinase 1. Its function is to encode a member of the neurotophic tyrosine kinase receptor family. When it binds to the kinase, the kinase phosphorylates itself and the other members of the MAPK pathway. This leads to differentiation within the cell, which can affect specifying sensory neuron subtypes. When this gene mutates, it can lead to congenital insensitivity to pain, anhidrosis, self-mutilating behavious, cognitive disability, and cancer. Its location is 1q23.1 and its exon count is 19.\n",
    "\n",
    "\n",
    "ELAVL1:\n",
    "\n",
    "The gene ELAVL1 is a protein coding gene, and its full official name is ELAV like RNA binding protein 1. It is a RNA-binding protein that binds to the 3'-UTR region of mRNAs, and by doing so, increases their stability. This gene is linked to many diseases, such as cancer. In cancer, it is a highly expressed gene, and is thought to be potentially useful in diagnosis of cancer, the prognosis, and therapy for cancer patients. Its location is 19p13.2 and its exon count is 7.\n",
    "\n",
    "UBC:\n",
    "\n",
    "The gene UBC is a protein coding gene. Its full official name is ubiquitin C. The encoded protein of this gene is a polyubiquitin precursor. When there is a conjugation of ubiquitin monomers or polymers, it can lead to the cell being effected in many ways. The effect on the cell depends on which ubiquitin is conjugated. Ubiquitination is associated with protein degradation, DNA repair, cell cycle regulation, kinase modification, endocytosis, and reulation of other cell signaling pathways. Its location is 12q24.31 and its exon count is 2.\n",
    "\n",
    "        "
   ]
  },
  {
   "cell_type": "markdown",
   "metadata": {},
   "source": [
    "### Highest Betweenness Centrality\n",
    "\n",
    "The 5 nodes with the highest betweenness centrality are:\n",
    "\n",
    "            Node          Betweenness Centrality\n",
    "            \n",
    "            TRIM25        0.08014247396684629\n",
    "            APP           0.07367960353313963\n",
    "            UBC           0.06409533792284744\n",
    "            ELAVL1        0.05311077710561116\n",
    "            NTRK1         0.03208298614181022\n",
    "            \n",
    "These nodes were already described above, so I will talk about the reason each gene most likely has the top 5 highest betweenness centrality.\n",
    "\n",
    "TRIM25:\n",
    "\n",
    "The TRIM25 gene and the APP gene are also the two highest degrees as well. This is probably because the TRIM25 gene helps the immune system defend against viruses and is therefore very important. Since it has to be able to defend against different kinds of viruses, it needs to have a lot of information. The betweenness centrality is a measure of how many times a node acts as a bridge along the shortest path between two nodes, and therefore nodes with a high betweenness centrality value will control information flow in a network. Because of this, it would make sense that the TRIM25 gene would have the highest degree and betweenness centrality value.\n",
    "\n",
    "APP:\n",
    "\n",
    "The APP gene deals with creating the protein that is found in tissues and organs such as the brain and spinal cord. It binds to other proteins and helps cells attach to one another. There are also studies that suggest that this gene helps direct movement of nerve cells during early development. Since it interacts with other nodes often, it is no surprise that it is the second highest degree and betweenness centrality.\n",
    "\n",
    "UBC:\n",
    "\n",
    "The UBC gene is important in maintaining cellular ubiquitin levels under stress conditions. It can attach to a portein, and has different functions depending on which protein it linked to. The different functions depend on the Lys residue of the ubiquitin that is linked. Since this gene has to link with different proteins to do different functions, it has a high betweenness centrality value.\n",
    "\n",
    "ELAVL1:\n",
    "\n",
    "The ELAV1 gene is a RNA-binding protein that binds to the 3'- UTR region of mRNAs. This gene is linked to many diseases. It most likely has a high betweennes centrality value because it is common enough to be found in many diseases. If it is present that often, it most likely has a role in binding with other nodes during the development of these diseases.\n",
    "\n",
    "NTRK1:\n",
    "\n",
    "The NTRK1 gene is essential for development and survival of nerve cells, especially the nerve cells that transmit information about sensesations such as pain, temperature, and touch. It is located on the surface of cells, mostly sensory neurons. This gene most likely has a high betweenness centrality value because it is connected to cells that transmit information, and therefore deals with controling information between many other nodes.\n"
   ]
  },
  {
   "cell_type": "markdown",
   "metadata": {},
   "source": [
    "### Highest Closeness Centrality\n",
    "\n",
    "The 5 nodes with the highest closeness centrality are:\n",
    "    \n",
    "        Node         Closeness Centrality\n",
    "        \n",
    "        TRIM25       0.4661945888417104)\n",
    "        NTRK1        0.4550885571389535\n",
    "        APP          0.45503998949289054\n",
    "        UBC          0.4508062537846824\n",
    "        ELAVL1       0.45070141955374854\n",
    "        \n",
    "These nodes were already described above, so I will talk about the reason each gene most likely has the top 5 highest closeness centrality value. The nodes with the highest closeness centrality values are the nodes that propogate information the fastest within a network.\n",
    "\n",
    "TRIM25:\n",
    "\n",
    "Much like the degree and betweenness centrality values, it most likely has the highest closeness centrality value because this gene deals with protecting against viruses. In order to do so, it must communicate with a large amount of other nodes. Because of this, it leads to being the node that can move information the quickest in the network because so many nodes are connected to the gene.\n",
    "\n",
    "NTRK1:\n",
    "\n",
    "The NTRK1 gene most likely has a high closeness centrality measure because it is connected to cells that deal with sensory information. Since the gene is connected to nodes that deal with nerve cells, it needs to be able to quickly send information.\n",
    "\n",
    "APP:\n",
    "\n",
    "The APP gene most likely has a high closeness centrality value because the gene helps protein bind with other proteins and cells attach to one another. Because of this, there is a lot of connection going on in the network with this gene, therefore making it easy for the gene to send out information in the network quickly.\n",
    "\n",
    "UBC:\n",
    "\n",
    "The UBC gene most likely has a high closeness centrality value because it attachs to several different proteins to do different functions. Since this gene is performing several different functions with different proteins, it is most likely connected to many different nodes and therefore decreasing the time it takes for the gene to send out information to other nodes in the network.\n",
    "\n",
    "ELAVL1:\n",
    "\n",
    "The ELAVL1 gene is linked to many diseases and deals with binding to the 3'- UTR region of mRNAs. It most likely is connected to many different nodes since it connects to many mRNAs and is found in many diseases. Because of this, the ELAVL1 gene most likely has a high closeness centrality value."
   ]
  },
  {
   "cell_type": "code",
   "execution_count": null,
   "metadata": {},
   "outputs": [],
   "source": []
  }
 ],
 "metadata": {
  "kernelspec": {
   "display_name": "Python 3",
   "language": "python",
   "name": "python3"
  },
  "language_info": {
   "codemirror_mode": {
    "name": "ipython",
    "version": 3
   },
   "file_extension": ".py",
   "mimetype": "text/x-python",
   "name": "python",
   "nbconvert_exporter": "python",
   "pygments_lexer": "ipython3",
   "version": "3.5.4"
  }
 },
 "nbformat": 4,
 "nbformat_minor": 2
}
